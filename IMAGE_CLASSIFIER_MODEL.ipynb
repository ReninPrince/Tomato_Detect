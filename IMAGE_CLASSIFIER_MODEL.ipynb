{
 "cells": [
  {
   "cell_type": "code",
   "execution_count": 1,
   "metadata": {},
   "outputs": [],
   "source": [
    "import os\n",
    "import cv2\n",
    "import pandas as pd\n",
    "import numpy as np\n",
    "import tensorflow as tf\n",
    "from tensorflow import keras\n",
    "import matplotlib.pyplot as plt"
   ]
  },
  {
   "cell_type": "code",
   "execution_count": 2,
   "metadata": {},
   "outputs": [
    {
     "data": {
      "text/plain": [
       "'C:\\\\Users\\\\renin prince'"
      ]
     },
     "execution_count": 2,
     "metadata": {},
     "output_type": "execute_result"
    }
   ],
   "source": [
    "os.getcwd()"
   ]
  },
  {
   "cell_type": "code",
   "execution_count": 3,
   "metadata": {},
   "outputs": [],
   "source": [
    "os.chdir(r'C:\\Studies\\ML\\opencv\\project\\Testing_1')"
   ]
  },
  {
   "cell_type": "code",
   "execution_count": 4,
   "metadata": {},
   "outputs": [],
   "source": [
    "files = os.listdir()"
   ]
  },
  {
   "cell_type": "code",
   "execution_count": 5,
   "metadata": {},
   "outputs": [
    {
     "data": {
      "text/plain": [
       "'Apple'"
      ]
     },
     "execution_count": 5,
     "metadata": {},
     "output_type": "execute_result"
    }
   ],
   "source": [
    "files[0]"
   ]
  },
  {
   "cell_type": "code",
   "execution_count": 6,
   "metadata": {},
   "outputs": [],
   "source": [
    "dataset_testing = []\n",
    "label_testing = []"
   ]
  },
  {
   "cell_type": "markdown",
   "metadata": {},
   "source": [
    "## Loop for creating dataset list from files"
   ]
  },
  {
   "cell_type": "code",
   "execution_count": 7,
   "metadata": {},
   "outputs": [],
   "source": [
    "count = 0\n",
    "for i in range(len(files)):\n",
    "    os.chdir(r'C:/Studies/ML/opencv/project/Testing_1/'+str(files[i]))\n",
    "    imges = os.listdir()\n",
    "    for i in imges:\n",
    "        images = cv2.imread(str(i),0)\n",
    "#         images = images.reshape(10,3000)\n",
    "        label_testing.append(count)\n",
    "        dataset_testing.append(images)\n",
    "    count += 1"
   ]
  },
  {
   "cell_type": "code",
   "execution_count": 8,
   "metadata": {},
   "outputs": [
    {
     "data": {
      "text/plain": [
       "8729"
      ]
     },
     "execution_count": 8,
     "metadata": {},
     "output_type": "execute_result"
    }
   ],
   "source": [
    "len(dataset_testing)"
   ]
  },
  {
   "cell_type": "markdown",
   "metadata": {},
   "source": [
    "# Creating numpy arrays for images and labels"
   ]
  },
  {
   "cell_type": "code",
   "execution_count": 9,
   "metadata": {},
   "outputs": [],
   "source": [
    "data = np.array(dataset_testing)"
   ]
  },
  {
   "cell_type": "code",
   "execution_count": 10,
   "metadata": {},
   "outputs": [],
   "source": [
    "label = np.array(label_testing)"
   ]
  },
  {
   "cell_type": "code",
   "execution_count": 11,
   "metadata": {},
   "outputs": [
    {
     "data": {
      "text/plain": [
       "(8729, 100, 100)"
      ]
     },
     "execution_count": 11,
     "metadata": {},
     "output_type": "execute_result"
    }
   ],
   "source": [
    "data.shape"
   ]
  },
  {
   "cell_type": "code",
   "execution_count": 12,
   "metadata": {},
   "outputs": [
    {
     "data": {
      "text/plain": [
       "(8729,)"
      ]
     },
     "execution_count": 12,
     "metadata": {},
     "output_type": "execute_result"
    }
   ],
   "source": [
    "label.shape"
   ]
  },
  {
   "cell_type": "code",
   "execution_count": 13,
   "metadata": {},
   "outputs": [
    {
     "data": {
      "text/plain": [
       "(100, 100)"
      ]
     },
     "execution_count": 13,
     "metadata": {},
     "output_type": "execute_result"
    }
   ],
   "source": [
    "data[0].shape"
   ]
  },
  {
   "cell_type": "markdown",
   "metadata": {},
   "source": [
    "# visualiztion using random values"
   ]
  },
  {
   "cell_type": "code",
   "execution_count": 14,
   "metadata": {},
   "outputs": [],
   "source": [
    "import random"
   ]
  },
  {
   "cell_type": "code",
   "execution_count": 16,
   "metadata": {},
   "outputs": [
    {
     "name": "stdout",
     "output_type": "stream",
     "text": [
      "8103\n",
      "Label:21    checking...Tomato\n"
     ]
    },
    {
     "data": {
      "text/plain": [
       "<matplotlib.image.AxesImage at 0x21d2274e3c8>"
      ]
     },
     "execution_count": 16,
     "metadata": {},
     "output_type": "execute_result"
    },
    {
     "data": {
      "image/png": "[encoded data removed]",
      "text/plain": [
       "<Figure size 432x288 with 1 Axes>"
      ]
     },
     "metadata": {
      "needs_background": "light"
     },
     "output_type": "display_data"
    }
   ],
   "source": [
    "num = random.randint(0,8729)\n",
    "print(num)\n",
    "print('Label:'+ str(label[num])+'    checking...'+str(files[label[num]]))\n",
    "plt.imshow(data[num])"
   ]
  },
  {
   "cell_type": "code",
   "execution_count": 86,
   "metadata": {},
   "outputs": [],
   "source": [
    "# import xlwt \n",
    "# from xlwt import Workbook \n",
    "  \n",
    "# # Workbook is created \n",
    "# wb = Workbook() \n",
    "  \n",
    "# # add_sheet is used to create sheet. \n",
    "# sheet1 = wb.add_sheet('Sheet 1') "
   ]
  },
  {
   "cell_type": "code",
   "execution_count": 72,
   "metadata": {},
   "outputs": [],
   "source": [
    "# for i in range(len(dataset_testing)):\n",
    "#     sheet1.write(i+1, 0, 'Label '+ str(files[int(dataset_testing[i][0])]))\n",
    "#     sheet1.write(i+1, 1, ' '.join(map(str, dataset_testing[i][1])))\n",
    "    \n",
    "#     wb.save('xlwt test_data.xls') "
   ]
  },
  {
   "cell_type": "markdown",
   "metadata": {},
   "source": [
    "# Creating model using tensorflow"
   ]
  },
  {
   "cell_type": "code",
   "execution_count": 134,
   "metadata": {},
   "outputs": [],
   "source": [
    "model = keras.Sequential([\n",
    "    keras.layers.Flatten(input_shape=(100,100)),\n",
    "    keras.layers.Dense(128, activation=tf.nn.swish),\n",
    "    keras.layers.Dense(256, activation=tf.nn.swish),\n",
    "    keras.layers.Dense(22, activation=tf.nn.softmax)\n",
    "])"
   ]
  },
  {
   "cell_type": "code",
   "execution_count": 135,
   "metadata": {},
   "outputs": [],
   "source": [
    "model.compile(optimizer='adam',\n",
    "              loss='sparse_categorical_crossentropy',\n",
    "              metrics=['accuracy'])"
   ]
  },
  {
   "cell_type": "code",
   "execution_count": 136,
   "metadata": {},
   "outputs": [
    {
     "name": "stdout",
     "output_type": "stream",
     "text": [
      "Train on 8729 samples\n",
      "Epoch 1/15\n",
      "8729/8729 [==============================] - 4s 428us/sample - loss: 88.2572 - accuracy: 0.2574\n",
      "Epoch 2/15\n",
      "8729/8729 [==============================] - 3s 349us/sample - loss: 2.5098 - accuracy: 0.2975\n",
      "Epoch 3/15\n",
      "8729/8729 [==============================] - 3s 340us/sample - loss: 2.4349 - accuracy: 0.2998\n",
      "Epoch 4/15\n",
      "8729/8729 [==============================] - 3s 349us/sample - loss: 2.3825 - accuracy: 0.3115\n",
      "Epoch 5/15\n",
      "8729/8729 [==============================] - 3s 348us/sample - loss: 2.3766 - accuracy: 0.3180\n",
      "Epoch 6/15\n",
      "8729/8729 [==============================] - 3s 371us/sample - loss: 2.4703 - accuracy: 0.3061\n",
      "Epoch 7/15\n",
      "8729/8729 [==============================] - 3s 350us/sample - loss: 2.4931 - accuracy: 0.3018\n",
      "Epoch 8/15\n",
      "8729/8729 [==============================] - 3s 343us/sample - loss: 2.4829 - accuracy: 0.3038\n",
      "Epoch 9/15\n",
      "8729/8729 [==============================] - 3s 348us/sample - loss: 2.4803 - accuracy: 0.3040\n",
      "Epoch 10/15\n",
      "8729/8729 [==============================] - 3s 348us/sample - loss: 2.4774 - accuracy: 0.3035\n",
      "Epoch 11/15\n",
      "8729/8729 [==============================] - 3s 362us/sample - loss: 2.6192 - accuracy: 0.2453\n",
      "Epoch 12/15\n",
      "8729/8729 [==============================] - 3s 352us/sample - loss: 2.6155 - accuracy: 0.2449\n",
      "Epoch 13/15\n",
      "8729/8729 [==============================] - 3s 357us/sample - loss: 2.6152 - accuracy: 0.2449\n",
      "Epoch 14/15\n",
      "8729/8729 [==============================] - 3s 348us/sample - loss: 2.6149 - accuracy: 0.2449\n",
      "Epoch 15/15\n",
      "8729/8729 [==============================] - 3s 347us/sample - loss: 2.6157 - accuracy: 0.2449\n"
     ]
    },
    {
     "data": {
      "text/plain": [
       "<tensorflow.python.keras.callbacks.History at 0x21d2b78d408>"
      ]
     },
     "execution_count": 136,
     "metadata": {},
     "output_type": "execute_result"
    }
   ],
   "source": [
    "model.fit(data,label,epochs=15)"
   ]
  },
  {
   "cell_type": "code",
   "execution_count": 20,
   "metadata": {},
   "outputs": [],
   "source": [
    "os.chdir(r'C:\\Studies\\ML\\opencv\\fruits\\Fruit-Images-Dataset-master\\test-multiple_fruits')"
   ]
  },
  {
   "cell_type": "code",
   "execution_count": 21,
   "metadata": {},
   "outputs": [],
   "source": [
    "trying_2_test = os.listdir()"
   ]
  },
  {
   "cell_type": "code",
   "execution_count": 34,
   "metadata": {},
   "outputs": [],
   "source": [
    "from skimage.transform import resize"
   ]
  },
  {
   "cell_type": "code",
   "execution_count": 160,
   "metadata": {},
   "outputs": [
    {
     "name": "stdout",
     "output_type": "stream",
     "text": [
      "28\n",
      "cherries6.jpg\n"
     ]
    },
    {
     "data": {
      "image/png": "[encoded data removed]",
      "text/plain": [
       "<Figure size 432x288 with 1 Axes>"
      ]
     },
     "metadata": {
      "needs_background": "light"
     },
     "output_type": "display_data"
    }
   ],
   "source": [
    "num = random.randint(0,len(trying_2_test))\n",
    "print(num)\n",
    "t_2_t = cv2.imread(str(trying_2_test[num]),0)\n",
    "print(trying_2_test[num])\n",
    "plt.imshow(t_2_t)\n",
    "# t_2_t_res = resize(t_2_t, (100, 100))\n",
    "t_2_t_res = cv2.resize(t_2_t, dsize=(100, 100), interpolation=cv2.INTER_LANCZOS4)"
   ]
  },
  {
   "cell_type": "code",
   "execution_count": 161,
   "metadata": {},
   "outputs": [],
   "source": [
    "predictions = model.predict(t_2_t_res.reshape(1,100,100))"
   ]
  },
  {
   "cell_type": "code",
   "execution_count": 162,
   "metadata": {},
   "outputs": [
    {
     "data": {
      "text/plain": [
       "array([[0.24567787, 0.01955719, 0.03722263, 0.03600591, 0.01645483,\n",
       "        0.01770487, 0.01956138, 0.03770984, 0.01926433, 0.02655535,\n",
       "        0.12799716, 0.01834031, 0.01981835, 0.01919322, 0.01898833,\n",
       "        0.01917627, 0.01840423, 0.01103813, 0.01965735, 0.05103272,\n",
       "        0.06952631, 0.1311134 ]], dtype=float32)"
      ]
     },
     "execution_count": 162,
     "metadata": {},
     "output_type": "execute_result"
    }
   ],
   "source": [
    "predictions"
   ]
  },
  {
   "cell_type": "code",
   "execution_count": 163,
   "metadata": {},
   "outputs": [
    {
     "name": "stdout",
     "output_type": "stream",
     "text": [
      "0\n",
      "Label:Apple\n"
     ]
    }
   ],
   "source": [
    "num = np.argmax(predictions)\n",
    "print(num)\n",
    "print('Label:'+ str(files[num]))\n",
    "# plt.imshow(trying_2_test[num])"
   ]
  },
  {
   "cell_type": "code",
   "execution_count": null,
   "metadata": {},
   "outputs": [],
   "source": [
    "24567787"
   ]
  },
  {
   "cell_type": "code",
   "execution_count": null,
   "metadata": {},
   "outputs": [],
   "source": []
  },
  {
   "cell_type": "code",
   "execution_count": 201,
   "metadata": {},
   "outputs": [],
   "source": [
    "os.chdir(r'C:\\Studies\\ML\\opencv\\fruits\\Fruit-Images-Dataset-master\\Training')"
   ]
  },
  {
   "cell_type": "code",
   "execution_count": 202,
   "metadata": {},
   "outputs": [],
   "source": [
    "testing_with_train = os.listdir()"
   ]
  },
  {
   "cell_type": "code",
   "execution_count": null,
   "metadata": {},
   "outputs": [],
   "source": []
  },
  {
   "cell_type": "code",
   "execution_count": 207,
   "metadata": {
    "collapsed": true
   },
   "outputs": [
    {
     "name": "stdout",
     "output_type": "stream",
     "text": [
      "Apple Braeburn\n",
      "0\n",
      "Label:Apple\n",
      "\n",
      "\n",
      "Apple Crimson Snow\n",
      "0\n",
      "Label:Apple\n",
      "\n",
      "\n",
      "Apple Golden 1\n",
      "0\n",
      "Label:Apple\n",
      "\n",
      "\n",
      "Apple Golden 2\n",
      "0\n",
      "Label:Apple\n",
      "\n",
      "\n",
      "Apple Golden 3\n",
      "0\n",
      "Label:Apple\n",
      "\n",
      "\n",
      "Apple Granny Smith\n",
      "0\n",
      "Label:Apple\n",
      "\n",
      "\n",
      "Apple Pink Lady\n",
      "0\n",
      "Label:Apple\n",
      "\n",
      "\n",
      "Apple Red 1\n",
      "0\n",
      "Label:Apple\n",
      "\n",
      "\n",
      "Apple Red 2\n",
      "0\n",
      "Label:Apple\n",
      "\n",
      "\n",
      "Apple Red 3\n",
      "0\n",
      "Label:Apple\n",
      "\n",
      "\n",
      "Apple Red Delicious\n",
      "0\n",
      "Label:Apple\n",
      "\n",
      "\n",
      "Apple Red Yellow 1\n",
      "0\n",
      "Label:Apple\n",
      "\n",
      "\n",
      "Apple Red Yellow 2\n",
      "0\n",
      "Label:Apple\n",
      "\n",
      "\n",
      "Apricot\n",
      "1\n",
      "Label:Apricot\n",
      "\n",
      "\n",
      "Avocado\n",
      "2\n",
      "Label:Avocado\n",
      "\n",
      "\n",
      "Avocado ripe\n",
      "2\n",
      "Label:Avocado\n",
      "\n",
      "\n",
      "Banana\n",
      "3\n",
      "Label:Banana\n",
      "\n",
      "\n",
      "Banana Lady Finger\n",
      "10\n",
      "Label:Cherry\n",
      "\n",
      "\n",
      "Banana Red\n",
      "19\n",
      "Label:Onion\n",
      "\n",
      "\n",
      "Beetroot\n",
      "21\n",
      "Label:Tomato\n",
      "\n",
      "\n",
      "Blueberry\n",
      "20\n",
      "Label:Plum\n",
      "\n",
      "\n",
      "Cactus fruit\n",
      "6\n",
      "Label:Cactus fruit\n",
      "\n",
      "\n",
      "Cantaloupe 1\n",
      "7\n",
      "Label:Cantaloupe\n",
      "\n",
      "\n",
      "Cantaloupe 2\n",
      "7\n",
      "Label:Cantaloupe\n",
      "\n",
      "\n",
      "Carambula\n",
      "18\n",
      "Label:Granadilla\n",
      "\n",
      "\n",
      "Cauliflower\n",
      "14\n",
      "Label:Dates\n",
      "\n",
      "\n",
      "Cherry 1\n",
      "10\n",
      "Label:Cherry\n",
      "\n",
      "\n",
      "Cherry 2\n",
      "10\n",
      "Label:Cherry\n",
      "\n",
      "\n",
      "Cherry Rainier\n",
      "0\n",
      "Label:Apple\n",
      "\n",
      "\n",
      "Cherry Wax Black\n",
      "10\n",
      "Label:Cherry\n",
      "\n",
      "\n",
      "Cherry Wax Red\n",
      "10\n",
      "Label:Cherry\n",
      "\n",
      "\n",
      "Cherry Wax Yellow\n",
      "10\n",
      "Label:Cherry\n",
      "\n",
      "\n",
      "Chestnut\n",
      "11\n",
      "Label:Chestnut\n",
      "\n",
      "\n",
      "Clementine\n",
      "0\n",
      "Label:Apple\n",
      "\n",
      "\n",
      "Cocos\n",
      "10\n",
      "Label:Cherry\n",
      "\n",
      "\n",
      "Dates\n",
      "14\n",
      "Label:Dates\n",
      "\n",
      "\n",
      "Eggplant\n",
      "15\n",
      "Label:Eggplant\n",
      "\n",
      "\n",
      "Ginger Root\n",
      "17\n",
      "Label:Ginger Root\n",
      "\n",
      "\n",
      "Granadilla\n",
      "18\n",
      "Label:Granadilla\n",
      "\n",
      "\n",
      "Grape Blue\n",
      "10\n",
      "Label:Cherry\n",
      "\n",
      "\n",
      "Grape Pink\n",
      "0\n",
      "Label:Apple\n",
      "\n",
      "\n",
      "Grape White\n",
      "10\n",
      "Label:Cherry\n",
      "\n",
      "\n",
      "Grape White 2\n",
      "0\n",
      "Label:Apple\n",
      "\n",
      "\n",
      "Grape White 3\n",
      "21\n",
      "Label:Tomato\n",
      "\n",
      "\n",
      "Grape White 4\n",
      "21\n",
      "Label:Tomato\n",
      "\n",
      "\n",
      "Grapefruit Pink\n",
      "16\n",
      "Label:Gauva\n",
      "\n",
      "\n",
      "Grapefruit White\n",
      "0\n",
      "Label:Apple\n",
      "\n",
      "\n",
      "Guava\n",
      "16\n",
      "Label:Gauva\n",
      "\n",
      "\n",
      "Hazelnut\n",
      "19\n",
      "Label:Onion\n",
      "\n",
      "\n",
      "Huckleberry\n",
      "10\n",
      "Label:Cherry\n",
      "\n",
      "\n",
      "Kaki\n",
      "12\n",
      "Label:Clementine\n",
      "\n",
      "\n",
      "Kiwi\n",
      "10\n",
      "Label:Cherry\n",
      "\n",
      "\n",
      "Kohlrabi\n",
      "9\n",
      "Label:Cauliflower\n",
      "\n",
      "\n",
      "Kumquats\n",
      "8\n",
      "Label:Carambula\n",
      "\n",
      "\n",
      "Lemon\n",
      "0\n",
      "Label:Apple\n",
      "\n",
      "\n",
      "Lemon Meyer\n",
      "16\n",
      "Label:Gauva\n",
      "\n",
      "\n",
      "Limes\n",
      "0\n",
      "Label:Apple\n",
      "\n",
      "\n",
      "Lychee\n",
      "9\n",
      "Label:Cauliflower\n",
      "\n",
      "\n",
      "Mandarine\n",
      "10\n",
      "Label:Cherry\n",
      "\n",
      "\n",
      "Mango\n",
      "10\n",
      "Label:Cherry\n",
      "\n",
      "\n",
      "Mango Red\n",
      "20\n",
      "Label:Plum\n",
      "\n",
      "\n",
      "Mangostan\n",
      "20\n",
      "Label:Plum\n",
      "\n",
      "\n",
      "Maracuja\n",
      "0\n",
      "Label:Apple\n",
      "\n",
      "\n",
      "Melon Piel de Sapo\n",
      "8\n",
      "Label:Carambula\n",
      "\n",
      "\n",
      "Mulberry\n",
      "21\n",
      "Label:Tomato\n",
      "\n",
      "\n",
      "Nectarine\n",
      "0\n",
      "Label:Apple\n",
      "\n",
      "\n",
      "Nectarine Flat\n",
      "20\n",
      "Label:Plum\n",
      "\n",
      "\n",
      "Nut Forest\n",
      "0\n",
      "Label:Apple\n",
      "\n",
      "\n",
      "Nut Pecan\n",
      "21\n",
      "Label:Tomato\n",
      "\n",
      "\n",
      "Onion Red\n",
      "19\n",
      "Label:Onion\n",
      "\n",
      "\n",
      "Onion Red Peeled\n",
      "19\n",
      "Label:Onion\n",
      "\n",
      "\n",
      "Onion White\n",
      "0\n",
      "Label:Apple\n",
      "\n",
      "\n",
      "Orange\n",
      "0\n",
      "Label:Apple\n",
      "\n",
      "\n",
      "Papaya\n",
      "13\n",
      "Label:Cocos\n",
      "\n",
      "\n",
      "Passion Fruit\n",
      "10\n",
      "Label:Cherry\n",
      "\n",
      "\n",
      "Peach\n",
      "0\n",
      "Label:Apple\n",
      "\n",
      "\n",
      "Peach 2\n",
      "9\n",
      "Label:Cauliflower\n",
      "\n",
      "\n",
      "Peach Flat\n",
      "10\n",
      "Label:Cherry\n",
      "\n",
      "\n",
      "Pear\n",
      "16\n",
      "Label:Gauva\n",
      "\n",
      "\n",
      "Pear Abate\n",
      "6\n",
      "Label:Cactus fruit\n",
      "\n",
      "\n",
      "Pear Forelle\n",
      "0\n",
      "Label:Apple\n",
      "\n",
      "\n",
      "Pear Kaiser\n",
      "4\n",
      "Label:Beetroot\n",
      "\n",
      "\n",
      "Pear Monster\n",
      "7\n",
      "Label:Cantaloupe\n",
      "\n",
      "\n",
      "Pear Red\n",
      "10\n",
      "Label:Cherry\n",
      "\n",
      "\n",
      "Pear Williams\n",
      "18\n",
      "Label:Granadilla\n",
      "\n",
      "\n",
      "Pepino\n",
      "7\n",
      "Label:Cantaloupe\n",
      "\n",
      "\n",
      "Pepper Green\n",
      "10\n",
      "Label:Cherry\n",
      "\n",
      "\n",
      "Pepper Red\n",
      "10\n",
      "Label:Cherry\n",
      "\n",
      "\n",
      "Pepper Yellow\n",
      "0\n",
      "Label:Apple\n",
      "\n",
      "\n",
      "Physalis\n",
      "0\n",
      "Label:Apple\n",
      "\n",
      "\n",
      "Physalis with Husk\n",
      "3\n",
      "Label:Banana\n",
      "\n",
      "\n",
      "Pineapple\n",
      "10\n",
      "Label:Cherry\n",
      "\n",
      "\n",
      "Pineapple Mini\n",
      "10\n",
      "Label:Cherry\n",
      "\n",
      "\n",
      "Pitahaya Red\n",
      "2\n",
      "Label:Avocado\n",
      "\n",
      "\n",
      "Plum\n",
      "10\n",
      "Label:Cherry\n",
      "\n",
      "\n",
      "Plum 2\n",
      "20\n",
      "Label:Plum\n",
      "\n",
      "\n",
      "Plum 3\n",
      "20\n",
      "Label:Plum\n",
      "\n",
      "\n",
      "Pomegranate\n",
      "0\n",
      "Label:Apple\n",
      "\n",
      "\n",
      "Pomelo Sweetie\n",
      "0\n",
      "Label:Apple\n",
      "\n",
      "\n",
      "Potato Red\n",
      "14\n",
      "Label:Dates\n",
      "\n",
      "\n",
      "Potato Red Washed\n",
      "14\n",
      "Label:Dates\n",
      "\n",
      "\n",
      "Potato Sweet\n",
      "21\n",
      "Label:Tomato\n",
      "\n",
      "\n",
      "Potato White\n",
      "10\n",
      "Label:Cherry\n",
      "\n",
      "\n",
      "Quince\n",
      "7\n",
      "Label:Cantaloupe\n",
      "\n",
      "\n",
      "Rambutan\n",
      "2\n",
      "Label:Avocado\n",
      "\n",
      "\n",
      "Raspberry\n",
      "10\n",
      "Label:Cherry\n",
      "\n",
      "\n",
      "Redcurrant\n",
      "21\n",
      "Label:Tomato\n",
      "\n",
      "\n",
      "Salak\n",
      "20\n",
      "Label:Plum\n",
      "\n",
      "\n",
      "Strawberry\n",
      "21\n",
      "Label:Tomato\n",
      "\n",
      "\n",
      "Strawberry Wedge\n",
      "0\n",
      "Label:Apple\n",
      "\n",
      "\n",
      "Tamarillo\n",
      "20\n",
      "Label:Plum\n",
      "\n",
      "\n",
      "Tangelo\n",
      "16\n",
      "Label:Gauva\n",
      "\n",
      "\n",
      "Tomato 1\n",
      "21\n",
      "Label:Tomato\n",
      "\n",
      "\n",
      "Tomato 2\n",
      "21\n",
      "Label:Tomato\n",
      "\n",
      "\n",
      "Tomato 3\n",
      "20\n",
      "Label:Plum\n",
      "\n",
      "\n",
      "Tomato 4\n",
      "21\n",
      "Label:Tomato\n",
      "\n",
      "\n",
      "Tomato Cherry Red\n",
      "21\n",
      "Label:Tomato\n",
      "\n",
      "\n",
      "Tomato Maroon\n",
      "21\n",
      "Label:Tomato\n",
      "\n",
      "\n",
      "Tomato Yellow\n",
      "0\n",
      "Label:Apple\n",
      "\n",
      "\n",
      "Walnut\n",
      "9\n",
      "Label:Cauliflower\n",
      "\n",
      "\n"
     ]
    }
   ],
   "source": [
    "for j in testing_with_train:\n",
    "    os.chdir(r'C:/Studies/ML/opencv/fruits/Fruit-Images-Dataset-master/Training/' +str(j))\n",
    "    trying_2_test = os.listdir()\n",
    "    t_2_t = cv2.imread(str(trying_2_test[5]),0)\n",
    "    predictions = model.predict(t_2_t.reshape(1,100,100))\n",
    "    num = np.argmax(predictions)\n",
    "    print(j)\n",
    "    print(num)\n",
    "    print('Label:'+ str(files[num]))\n",
    "    print('\\n')\n",
    "    \n",
    "    \n",
    "    "
   ]
  },
  {
   "cell_type": "code",
   "execution_count": 208,
   "metadata": {
    "collapsed": true
   },
   "outputs": [
    {
     "name": "stdout",
     "output_type": "stream",
     "text": [
      "WARNING:tensorflow:From C:\\Users\\renin prince\\Anaconda3\\lib\\site-packages\\tensorflow_core\\python\\ops\\resource_variable_ops.py:1786: calling BaseResourceVariable.__init__ (from tensorflow.python.ops.resource_variable_ops) with constraint is deprecated and will be removed in a future version.\n",
      "Instructions for updating:\n",
      "If using Keras pass *_constraint arguments to layers.\n",
      "INFO:tensorflow:Assets written to: with10epochs.pb\\assets\n"
     ]
    }
   ],
   "source": [
    "model.save('with10epochs.pb')"
   ]
  },
  {
   "cell_type": "code",
   "execution_count": 209,
   "metadata": {},
   "outputs": [],
   "source": [
    "model.save('with10epochs.h5')"
   ]
  },
  {
   "cell_type": "code",
   "execution_count": null,
   "metadata": {},
   "outputs": [],
   "source": []
  }
 ],
 "metadata": {
  "kernelspec": {
   "display_name": "Python 3",
   "language": "python",
   "name": "python3"
  },
  "language_info": {
   "codemirror_mode": {
    "name": "ipython",
    "version": 3
   },
   "file_extension": ".py",
   "mimetype": "text/x-python",
   "name": "python",
   "nbconvert_exporter": "python",
   "pygments_lexer": "ipython3",
   "version": "3.7.4"
  }
 },
 "nbformat": 4,
 "nbformat_minor": 2
}
